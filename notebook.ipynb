{
  "cells": [
    {
      "cell_type": "markdown",
      "id": "tXh7j9lVYHnU",
      "metadata": {
        "id": "tXh7j9lVYHnU"
      },
      "source": [
        "# Assignment #01\n",
        "\n",
        "This assignment is composed of multiple Python and NumPy programming exercises. The deliverable of this assignment is this jupyter-notebook completed with your solution.\n",
        "\n",
        "The delivery instructions are the following:\n",
        "    - Create a GitHub repository for your team. You are free to choose its name. This repository will be used to delvier the programming assignments and the code of your team's final project.\n",
        "    - Create a folder assignment-01 in the repository. Put the jupyter-notebook with your solution in this repository and post the repository link in your team's D2L dropbox for the assignment.\n",
        "\n",
        "You are being assessed based on:\n",
        "\n",
        "1. Code execution - 25% \n",
        "2. Clarity of the code (e.g., easy to follow, has pertinent comments, etc.) - 25%\n",
        "3. Proper usage of the techniques seen in class - 25%\n",
        "    - remember to avoid explicit Python loops!  \n",
        "4. Quality and correcteness of the results - 25%\n",
        "\n",
        "More details about the assessment are available in the rubric document in the class GitHub repository.\n",
        "\n",
        "Points distribution:\n",
        "- Question 2-21: 3 points per question \n",
        "- Questions 22-26: 8 points per question (total 40)\n",
        "- Total: 100 ponits"
      ]
    },
    {
      "cell_type": "code",
      "execution_count": 1,
      "id": "yxb_uy8_YHnY",
      "metadata": {
        "id": "yxb_uy8_YHnY"
      },
      "outputs": [],
      "source": [
        "import matplotlib.pylab as plt"
      ]
    },
    {
      "cell_type": "markdown",
      "id": "SulKr1crYHna",
      "metadata": {
        "id": "SulKr1crYHna"
      },
      "source": [
        "**1. Import the numpy package under the name np**"
      ]
    },
    {
      "cell_type": "code",
      "execution_count": 2,
      "id": "Y5l_t_FfYHnb",
      "metadata": {
        "id": "Y5l_t_FfYHnb"
      },
      "outputs": [],
      "source": [
        "import numpy as np"
      ]
    },
    {
      "cell_type": "markdown",
      "id": "P1erhR7gYHnc",
      "metadata": {
        "id": "P1erhR7gYHnc"
      },
      "source": [
        "**2. Print the numpy version and the configuration**"
      ]
    },
    {
      "cell_type": "code",
      "execution_count": 3,
      "id": "CNDMo2DdYHnc",
      "metadata": {
        "colab": {
          "base_uri": "https://localhost:8080/"
        },
        "id": "CNDMo2DdYHnc",
        "outputId": "6ffa0a0d-fe6d-44d5-ae44-3114e3b17280"
      },
      "outputs": [
        {
          "output_type": "stream",
          "name": "stdout",
          "text": [
            "NumPy version = 1.19.5\n",
            "\n",
            "Configuration =\n",
            "\n",
            "blas_mkl_info:\n",
            "  NOT AVAILABLE\n",
            "blis_info:\n",
            "  NOT AVAILABLE\n",
            "openblas_info:\n",
            "    libraries = ['openblas', 'openblas']\n",
            "    library_dirs = ['/usr/local/lib']\n",
            "    language = c\n",
            "    define_macros = [('HAVE_CBLAS', None)]\n",
            "blas_opt_info:\n",
            "    libraries = ['openblas', 'openblas']\n",
            "    library_dirs = ['/usr/local/lib']\n",
            "    language = c\n",
            "    define_macros = [('HAVE_CBLAS', None)]\n",
            "lapack_mkl_info:\n",
            "  NOT AVAILABLE\n",
            "openblas_lapack_info:\n",
            "    libraries = ['openblas', 'openblas']\n",
            "    library_dirs = ['/usr/local/lib']\n",
            "    language = c\n",
            "    define_macros = [('HAVE_CBLAS', None)]\n",
            "lapack_opt_info:\n",
            "    libraries = ['openblas', 'openblas']\n",
            "    library_dirs = ['/usr/local/lib']\n",
            "    language = c\n",
            "    define_macros = [('HAVE_CBLAS', None)]\n"
          ]
        }
      ],
      "source": [
        "print(f'NumPy version = {np.__version__}\\n\\nConfiguration =\\n')\n",
        "np.__config__.show()"
      ]
    },
    {
      "cell_type": "markdown",
      "id": "08YpG847YHnc",
      "metadata": {
        "id": "08YpG847YHnc"
      },
      "source": [
        "**3. Create a 1D array of zeros of size 10 of type float32**"
      ]
    },
    {
      "cell_type": "code",
      "execution_count": 4,
      "id": "GWVWHh8UYHnd",
      "metadata": {
        "colab": {
          "base_uri": "https://localhost:8080/"
        },
        "id": "GWVWHh8UYHnd",
        "outputId": "90db1930-ed1a-402c-89fa-993b059a3fb9"
      },
      "outputs": [
        {
          "output_type": "execute_result",
          "data": {
            "text/plain": [
              "array([0., 0., 0., 0., 0., 0., 0., 0., 0., 0.], dtype=float32)"
            ]
          },
          "metadata": {},
          "execution_count": 4
        }
      ],
      "source": [
        "np.zeros(10, dtype='float32')"
      ]
    },
    {
      "cell_type": "markdown",
      "id": "74KEDVZ4YHnd",
      "metadata": {
        "id": "74KEDVZ4YHnd"
      },
      "source": [
        "**4. Print the memory size of the array below**"
      ]
    },
    {
      "cell_type": "code",
      "execution_count": 5,
      "id": "mVjlI7fsYHne",
      "metadata": {
        "colab": {
          "base_uri": "https://localhost:8080/"
        },
        "id": "mVjlI7fsYHne",
        "outputId": "b7f66f4c-2d38-4f54-81c7-1e26e365ae37"
      },
      "outputs": [
        {
          "output_type": "stream",
          "name": "stdout",
          "text": [
            "Memory size = 3072\n"
          ]
        }
      ],
      "source": [
        "Z = np.zeros((32,12))\n",
        "# Include your solution below\n",
        "\n",
        "print(f'Memory size = {Z.itemsize * Z.size}')"
      ]
    },
    {
      "cell_type": "markdown",
      "id": "EV5YwnoVYHne",
      "metadata": {
        "id": "EV5YwnoVYHne"
      },
      "source": [
        "**5. Create a 1D array with values ranging from 10 to 58**"
      ]
    },
    {
      "cell_type": "code",
      "execution_count": 6,
      "id": "8yLUp5uBYHne",
      "metadata": {
        "colab": {
          "base_uri": "https://localhost:8080/"
        },
        "id": "8yLUp5uBYHne",
        "outputId": "b9b8cae4-a325-4e48-c3dd-0149d3bc52bd"
      },
      "outputs": [
        {
          "output_type": "execute_result",
          "data": {
            "text/plain": [
              "array([10, 11, 12, 13, 14, 15, 16, 17, 18, 19, 20, 21, 22, 23, 24, 25, 26,\n",
              "       27, 28, 29, 30, 31, 32, 33, 34, 35, 36, 37, 38, 39, 40, 41, 42, 43,\n",
              "       44, 45, 46, 47, 48, 49, 50, 51, 52, 53, 54, 55, 56, 57])"
            ]
          },
          "metadata": {},
          "execution_count": 6
        }
      ],
      "source": [
        "# excluding 58\n",
        "np.arange(10, 58, dtype='int')"
      ]
    },
    {
      "cell_type": "markdown",
      "id": "NGxhL8x4YHnf",
      "metadata": {
        "id": "NGxhL8x4YHnf"
      },
      "source": [
        "**6. Reverse the order of the values in the vector (first element becomes last)**"
      ]
    },
    {
      "cell_type": "code",
      "execution_count": 7,
      "id": "K1XsaW5KYHnf",
      "metadata": {
        "id": "K1XsaW5KYHnf",
        "colab": {
          "base_uri": "https://localhost:8080/"
        },
        "outputId": "7116b844-95ed-485e-a480-c56a91b1db94"
      },
      "outputs": [
        {
          "output_type": "stream",
          "name": "stdout",
          "text": [
            "[9 8 7 6 5 4 3 2 1 0]\n"
          ]
        }
      ],
      "source": [
        "a = np.arange(10)\n",
        "# Include your solution below\n",
        "a = np.flip(a)\n",
        "print(a)"
      ]
    },
    {
      "cell_type": "markdown",
      "id": "bqlxXmHwYHnf",
      "metadata": {
        "id": "bqlxXmHwYHnf"
      },
      "source": [
        "**7. Create a 3x3 matrix with values ranging from 0 to 8**"
      ]
    },
    {
      "cell_type": "code",
      "execution_count": 8,
      "id": "WyOT1NG4YHng",
      "metadata": {
        "id": "WyOT1NG4YHng",
        "colab": {
          "base_uri": "https://localhost:8080/"
        },
        "outputId": "d3e7191f-7c4d-4c69-b25b-ed4e54bcef68"
      },
      "outputs": [
        {
          "output_type": "execute_result",
          "data": {
            "text/plain": [
              "array([[0, 1, 2],\n",
              "       [3, 4, 5],\n",
              "       [6, 7, 8]])"
            ]
          },
          "metadata": {},
          "execution_count": 8
        }
      ],
      "source": [
        "np.arange(9).reshape(3,3)"
      ]
    },
    {
      "cell_type": "markdown",
      "id": "161275b8YHng",
      "metadata": {
        "id": "161275b8YHng"
      },
      "source": [
        "**8. Create a 3x3 identity matrix**"
      ]
    },
    {
      "cell_type": "code",
      "execution_count": 9,
      "id": "pLLD8m7pYHng",
      "metadata": {
        "id": "pLLD8m7pYHng",
        "colab": {
          "base_uri": "https://localhost:8080/"
        },
        "outputId": "1d22eef4-4939-4127-d4e5-a2ea026527b7"
      },
      "outputs": [
        {
          "output_type": "execute_result",
          "data": {
            "text/plain": [
              "array([[1., 0., 0.],\n",
              "       [0., 1., 0.],\n",
              "       [0., 0., 1.]])"
            ]
          },
          "metadata": {},
          "execution_count": 9
        }
      ],
      "source": [
        "np.identity(3)"
      ]
    },
    {
      "cell_type": "markdown",
      "id": "3HRzmQmlYHng",
      "metadata": {
        "id": "3HRzmQmlYHng"
      },
      "source": [
        "**9. Find and print the maximum values of each column in the array below** "
      ]
    },
    {
      "cell_type": "code",
      "execution_count": 10,
      "id": "Zn_vPk5UYHnh",
      "metadata": {
        "id": "Zn_vPk5UYHnh",
        "colab": {
          "base_uri": "https://localhost:8080/"
        },
        "outputId": "d96d354c-f30d-41c1-dbeb-5e4371a91ed6"
      },
      "outputs": [
        {
          "output_type": "execute_result",
          "data": {
            "text/plain": [
              "array([0.954212  , 0.7306921 , 0.80835602, 0.94243331, 0.89101008,\n",
              "       0.9383299 , 0.98528875, 0.90207733, 0.82329925, 0.66662926,\n",
              "       0.95186092])"
            ]
          },
          "metadata": {},
          "execution_count": 10
        }
      ],
      "source": [
        "Z = np.random.random((10,11))\n",
        "# Include your solution below\n",
        "np.amax(Z, axis = 0)\n"
      ]
    },
    {
      "cell_type": "markdown",
      "id": "LMqFNzqlYHnh",
      "metadata": {
        "id": "LMqFNzqlYHnh"
      },
      "source": [
        "**10. Create a $7 \\times 7$ array with 1s on the borders (first row and column, last row and columns) and 0s everywhere else**"
      ]
    },
    {
      "cell_type": "code",
      "execution_count": 11,
      "id": "GIAtp4qoYHnh",
      "metadata": {
        "id": "GIAtp4qoYHnh",
        "colab": {
          "base_uri": "https://localhost:8080/"
        },
        "outputId": "177817f2-fc9c-4054-a492-a4afb624318d"
      },
      "outputs": [
        {
          "output_type": "execute_result",
          "data": {
            "text/plain": [
              "array([[1., 1., 1., 1., 1., 1., 1.],\n",
              "       [1., 0., 0., 0., 0., 0., 1.],\n",
              "       [1., 0., 0., 0., 0., 0., 1.],\n",
              "       [1., 0., 0., 0., 0., 0., 1.],\n",
              "       [1., 0., 0., 0., 0., 0., 1.],\n",
              "       [1., 0., 0., 0., 0., 0., 1.],\n",
              "       [1., 1., 1., 1., 1., 1., 1.]])"
            ]
          },
          "metadata": {},
          "execution_count": 11
        }
      ],
      "source": [
        "np.pad(np.zeros((5,5)), 1, constant_values=1)\n"
      ]
    },
    {
      "cell_type": "markdown",
      "id": "A2wiLyjTYHni",
      "metadata": {
        "id": "A2wiLyjTYHni"
      },
      "source": [
        "**11. Pad the existing array below with zeros (i.e., add additional rows and columns with zeros). Use the NumPy pad function.**"
      ]
    },
    {
      "cell_type": "code",
      "execution_count": 12,
      "id": "Mh8QIhHZYHni",
      "metadata": {
        "id": "Mh8QIhHZYHni",
        "colab": {
          "base_uri": "https://localhost:8080/"
        },
        "outputId": "0fcc0aab-618f-4e77-be33-240ada1156f7"
      },
      "outputs": [
        {
          "output_type": "execute_result",
          "data": {
            "text/plain": [
              "array([[0., 0., 0., 0., 0., 0., 0.],\n",
              "       [0., 1., 1., 1., 1., 1., 0.],\n",
              "       [0., 1., 1., 1., 1., 1., 0.],\n",
              "       [0., 1., 1., 1., 1., 1., 0.],\n",
              "       [0., 1., 1., 1., 1., 1., 0.],\n",
              "       [0., 1., 1., 1., 1., 1., 0.],\n",
              "       [0., 0., 0., 0., 0., 0., 0.]])"
            ]
          },
          "metadata": {},
          "execution_count": 12
        }
      ],
      "source": [
        "Z = np.ones((5,5))\n",
        "# Include your solution below\n",
        "np.pad(Z, 1, constant_values=0)"
      ]
    },
    {
      "cell_type": "markdown",
      "id": "xg5ABQ_PYHni",
      "metadata": {
        "id": "xg5ABQ_PYHni"
      },
      "source": [
        "**12. Extract the integer part of the random array of positive numbers below**"
      ]
    },
    {
      "cell_type": "code",
      "execution_count": 13,
      "id": "LXRiR_r0YHni",
      "metadata": {
        "id": "LXRiR_r0YHni",
        "colab": {
          "base_uri": "https://localhost:8080/"
        },
        "outputId": "0cfcfa5f-e95b-4f5d-ea3d-d6f00620bda8"
      },
      "outputs": [
        {
          "output_type": "stream",
          "name": "stdout",
          "text": [
            "Original =  [0.60010581 6.54212899 5.62431466 2.22035596 2.99617373 5.35967709\n",
            " 0.95792524 5.71576858 9.98273194 6.75786353]\n",
            "\n",
            "Extracted =  [0 6 5 2 2 5 0 5 9 6]\n"
          ]
        }
      ],
      "source": [
        "Z = np.random.uniform(0,10,10)\n",
        "# Include your solution below\n",
        "print(\"Original = \", Z)\n",
        "Y = Z.astype('int')\n",
        "print(\"\\nExtracted = \", Y)"
      ]
    },
    {
      "cell_type": "markdown",
      "id": "6Y6rnj-TYHnj",
      "metadata": {
        "id": "6Y6rnj-TYHnj"
      },
      "source": [
        "**13. Create a 5x5 matrix with rows with equal values ranging from 0 to 4 (i.e., [0,1,2,3,4])**\n",
        "\n",
        "*Hint:* consider using NumPy broadcasting or the tile function*"
      ]
    },
    {
      "cell_type": "code",
      "execution_count": 14,
      "id": "q3sXysG4YHnj",
      "metadata": {
        "id": "q3sXysG4YHnj",
        "colab": {
          "base_uri": "https://localhost:8080/"
        },
        "outputId": "162330cd-2674-49a2-ea0b-f8be2e37a7ac"
      },
      "outputs": [
        {
          "output_type": "execute_result",
          "data": {
            "text/plain": [
              "array([[0., 1., 2., 3., 4.],\n",
              "       [0., 1., 2., 3., 4.],\n",
              "       [0., 1., 2., 3., 4.],\n",
              "       [0., 1., 2., 3., 4.],\n",
              "       [0., 1., 2., 3., 4.]])"
            ]
          },
          "metadata": {},
          "execution_count": 14
        }
      ],
      "source": [
        "R = np.arange(0, 5)\n",
        "C = np.ones((5, 1))\n",
        "\n",
        "R * C"
      ]
    },
    {
      "cell_type": "markdown",
      "id": "A_NVkmcJYHnj",
      "metadata": {
        "id": "A_NVkmcJYHnj"
      },
      "source": [
        "**14. Create a vector of size 10 with values ranging from 0 to 1 (0 and 1 not included)**\n",
        "\n",
        "*Hint: Consider using the linspace function*"
      ]
    },
    {
      "cell_type": "code",
      "execution_count": 15,
      "id": "VTkdU9-lYHnj",
      "metadata": {
        "id": "VTkdU9-lYHnj",
        "colab": {
          "base_uri": "https://localhost:8080/"
        },
        "outputId": "745aa3ed-8b7f-4f12-da09-eb3ce749b8f8"
      },
      "outputs": [
        {
          "output_type": "execute_result",
          "data": {
            "text/plain": [
              "array([0.09090909, 0.18181818, 0.27272727, 0.36363636, 0.45454545,\n",
              "       0.54545455, 0.63636364, 0.72727273, 0.81818182, 0.90909091])"
            ]
          },
          "metadata": {},
          "execution_count": 15
        }
      ],
      "source": [
        "np.linspace(0, 1, 11, endpoint=False)[1:]"
      ]
    },
    {
      "cell_type": "markdown",
      "id": "MOWurTLNYHnj",
      "metadata": {
        "id": "MOWurTLNYHnj"
      },
      "source": [
        "**15. Create a random vector of size 10 and sort it**"
      ]
    },
    {
      "cell_type": "code",
      "execution_count": 16,
      "id": "nFCme5DwYHnk",
      "metadata": {
        "id": "nFCme5DwYHnk",
        "colab": {
          "base_uri": "https://localhost:8080/"
        },
        "outputId": "93bcfa01-3004-4448-e6ec-f3a701f6d20d"
      },
      "outputs": [
        {
          "output_type": "stream",
          "name": "stdout",
          "text": [
            "Before sorting\n",
            " [0.77132064 0.02075195 0.63364823 0.74880388 0.49850701 0.22479665\n",
            " 0.19806286 0.76053071 0.16911084 0.08833981]\n",
            "\n",
            "After sorting\n",
            " [0.02075195 0.08833981 0.16911084 0.19806286 0.22479665 0.49850701\n",
            " 0.63364823 0.74880388 0.76053071 0.77132064]\n"
          ]
        }
      ],
      "source": [
        "np.random.seed(10)\n",
        "Z = np.random.rand(10)\n",
        "print('Before sorting\\n', Z)\n",
        "\n",
        "Z.sort()\n",
        "print('\\nAfter sorting\\n', Z)"
      ]
    },
    {
      "cell_type": "markdown",
      "id": "incl8IfeYHnk",
      "metadata": {
        "id": "incl8IfeYHnk"
      },
      "source": [
        "**16. Consider the cartesian coordinates below (X and Y), convert them to polar coordinates (R and T)**"
      ]
    },
    {
      "cell_type": "code",
      "execution_count": null,
      "id": "679p3PH2YHnk",
      "metadata": {
        "id": "679p3PH2YHnk"
      },
      "outputs": [],
      "source": [
        "Z = np.random.random((10,2))\n",
        "X,Y = Z[:,0], Z[:,1]\n",
        "# Include your solution below\n"
      ]
    },
    {
      "cell_type": "markdown",
      "id": "pTydNtlVYHnk",
      "metadata": {
        "id": "pTydNtlVYHnk"
      },
      "source": [
        "**17. Create random vector of size 10 and replace the maximum value by 0**"
      ]
    },
    {
      "cell_type": "code",
      "execution_count": null,
      "id": "m8ohc-QtYHnk",
      "metadata": {
        "id": "m8ohc-QtYHnk"
      },
      "outputs": [],
      "source": [
        "np.random.random(10)"
      ]
    },
    {
      "cell_type": "markdown",
      "id": "ItFF-8OOYHnl",
      "metadata": {
        "id": "ItFF-8OOYHnl"
      },
      "source": [
        "**18. Find the nearest value from a given value (z) in an array (Z)**"
      ]
    },
    {
      "cell_type": "code",
      "execution_count": null,
      "id": "9J1YwNpSYHnl",
      "metadata": {
        "id": "9J1YwNpSYHnl"
      },
      "outputs": [],
      "source": [
        "Z = np.random.uniform(0,1,10)\n",
        "z = 0.5\n",
        "# Include your solution below"
      ]
    },
    {
      "cell_type": "markdown",
      "id": "BvfUAe4jYHnl",
      "metadata": {
        "id": "BvfUAe4jYHnl"
      },
      "source": [
        "**19. Consider the vector [5, 4, 3, 2, 1], how to build a new vector with 3 consecutive zeros interleaved between each value?**"
      ]
    },
    {
      "cell_type": "code",
      "execution_count": null,
      "id": "l2XvRKZxYHnl",
      "metadata": {
        "id": "l2XvRKZxYHnl"
      },
      "outputs": [],
      "source": [
        "Z = np.arange(5)[::-1]\n",
        "# Include your solution below\n"
      ]
    },
    {
      "cell_type": "markdown",
      "id": "kcGgGO7LYHnm",
      "metadata": {
        "id": "kcGgGO7LYHnm"
      },
      "source": [
        "**20. Consider an array of dimension (5,5,3), how to mulitply it element-wise by an array with dimensions (5,5) - i.e., (5,5,0)$\\times$(5,5), (5,5,1)$\\times$(5,5), (5,5,2)$\\times$(5,5)**"
      ]
    },
    {
      "cell_type": "code",
      "execution_count": null,
      "id": "v5_KY1dLYHnm",
      "metadata": {
        "id": "v5_KY1dLYHnm"
      },
      "outputs": [],
      "source": [
        "A = np.ones((5,5,3))\n",
        "B = 2*np.ones((5,5))\n",
        "# Include your solution below\n",
        "\n"
      ]
    },
    {
      "cell_type": "markdown",
      "id": "GfswUUpoYHnm",
      "metadata": {
        "id": "GfswUUpoYHnm"
      },
      "source": [
        "**21. Swap the first and second rows of the 2D array below**"
      ]
    },
    {
      "cell_type": "code",
      "execution_count": null,
      "id": "mZYzoUEAYHnm",
      "metadata": {
        "id": "mZYzoUEAYHnm"
      },
      "outputs": [],
      "source": [
        "W = np.arange(30).reshape(6,5)\n",
        "print(W)\n",
        "print()\n",
        "# Include your solution below\n"
      ]
    },
    {
      "cell_type": "markdown",
      "id": "3im2sT8eYHnm",
      "metadata": {
        "id": "3im2sT8eYHnm"
      },
      "source": [
        "**22. Write a function that receives as input a 2D Boolean NumPy array and outputs the coordinates of the minimal bounding-box\n",
        "that encloses all non-zero elements in the input array**\n",
        "\n",
        "**Tip:** search for the functions nonzero and where in the NumPy documentation.\n",
        "\n",
        "\n",
        "<img src=\"https://github.com/rmsouza01/ENEL645/blob/master/Figures/bbox.png?raw=1\" width=\"150\" /> "
      ]
    },
    {
      "cell_type": "code",
      "execution_count": null,
      "id": "a6dl6OPeYHnn",
      "metadata": {
        "id": "a6dl6OPeYHnn"
      },
      "outputs": [],
      "source": [
        "def bbox(img):\n",
        "    #include your solution below\n",
        "    return (r1,c1),(r2,c2)\n",
        "\n",
        "\n",
        "from PIL import Image\n",
        "\n",
        "img = np.array(Image.open('../Figures/bin_image.png').convert('L')) > 0\n",
        "print(bbox(img))"
      ]
    },
    {
      "cell_type": "markdown",
      "id": "xtwen1DOYHnn",
      "metadata": {
        "id": "xtwen1DOYHnn"
      },
      "source": [
        "**23.Write a function to compute the average over a sliding window of length N over a 1D array?**\n",
        "\n",
        "*Example:* [1,2,3,4,5,6,7,8,9], N = 3 -> [2,5,8]"
      ]
    },
    {
      "cell_type": "code",
      "execution_count": null,
      "id": "dYXF4TDRYHnn",
      "metadata": {
        "id": "dYXF4TDRYHnn"
      },
      "outputs": [],
      "source": [
        "def moving_average(x,N = 3):\n",
        "    #define your function here\n",
        "    return\n",
        "\n",
        "a = np.arange(30)\n",
        "N = 3\n",
        "print(moving_average(a,N))"
      ]
    },
    {
      "cell_type": "markdown",
      "id": "REMVKexWYHnn",
      "metadata": {
        "id": "REMVKexWYHnn"
      },
      "source": [
        "**24.  Given a sorted 1D array C that corresponds to a bincount, how to produce an array A such that np.bincount(A) == C?**\n",
        "\n",
        "*Example:* C = [3,2,4] -> D = [0,0,0,1,1,2,2,2,2]\n",
        "\n",
        "*Tip:* Consider using the NumPy repeat function"
      ]
    },
    {
      "cell_type": "code",
      "execution_count": null,
      "id": "T5f-EshbYHno",
      "metadata": {
        "id": "T5f-EshbYHno"
      },
      "outputs": [],
      "source": [
        "C = np.bincount([1,1,2,3,4,4,6])\n",
        "print(C)\n",
        "# Include yoru solution here"
      ]
    },
    {
      "cell_type": "markdown",
      "id": "D4C4PoZrYHno",
      "metadata": {
        "id": "D4C4PoZrYHno"
      },
      "source": [
        "**25. Find the most frequent value in the array below?**"
      ]
    },
    {
      "cell_type": "code",
      "execution_count": null,
      "id": "8MbdrvhIYHno",
      "metadata": {
        "id": "8MbdrvhIYHno"
      },
      "outputs": [],
      "source": [
        "Z = np.random.randint(0,10,50)\n",
        "# Include your solution below"
      ]
    },
    {
      "cell_type": "markdown",
      "id": "2DMitUlSYHno",
      "metadata": {
        "id": "2DMitUlSYHno"
      },
      "source": [
        "**26. Write a function to return the n largest values of an array** "
      ]
    },
    {
      "cell_type": "code",
      "execution_count": null,
      "id": "88j8v963YHno",
      "metadata": {
        "id": "88j8v963YHno"
      },
      "outputs": [],
      "source": [
        "def nlargest(a,n = 5):\n",
        "    # Include your solution here\n",
        "    \n",
        "    return\n",
        "\n",
        "Z = np.arange(10000)\n",
        "np.random.shuffle(Z)\n",
        "n = 5\n",
        "print(nlargest(Z,n))    "
      ]
    }
  ],
  "metadata": {
    "colab": {
      "collapsed_sections": [],
      "name": "assignment01-python-numpy-programming.ipynb",
      "provenance": []
    },
    "kernelspec": {
      "display_name": "Python 3 (ipykernel)",
      "language": "python",
      "name": "python3"
    },
    "language_info": {
      "codemirror_mode": {
        "name": "ipython",
        "version": 3
      },
      "file_extension": ".py",
      "mimetype": "text/x-python",
      "name": "python",
      "nbconvert_exporter": "python",
      "pygments_lexer": "ipython3",
      "version": "3.9.7"
    }
  },
  "nbformat": 4,
  "nbformat_minor": 5
}