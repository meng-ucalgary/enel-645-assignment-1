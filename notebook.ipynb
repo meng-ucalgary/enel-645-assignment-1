{
  "cells": [
    {
      "cell_type": "markdown",
      "id": "tXh7j9lVYHnU",
      "metadata": {
        "id": "tXh7j9lVYHnU"
      },
      "source": [
        "# Assignment #01\n",
        "\n",
        "This assignment is composed of multiple Python and NumPy programming exercises. The deliverable of this assignment is this jupyter-notebook completed with your solution.\n",
        "\n",
        "The delivery instructions are the following:\n",
        "    - Create a GitHub repository for your team. You are free to choose its name. This repository will be used to delvier the programming assignments and the code of your team's final project.\n",
        "    - Create a folder assignment-01 in the repository. Put the jupyter-notebook with your solution in this repository and post the repository link in your team's D2L dropbox for the assignment.\n",
        "\n",
        "You are being assessed based on:\n",
        "\n",
        "1. Code execution - 25% \n",
        "2. Clarity of the code (e.g., easy to follow, has pertinent comments, etc.) - 25%\n",
        "3. Proper usage of the techniques seen in class - 25%\n",
        "    - remember to avoid explicit Python loops!  \n",
        "4. Quality and correcteness of the results - 25%\n",
        "\n",
        "More details about the assessment are available in the rubric document in the class GitHub repository.\n",
        "\n",
        "Points distribution:\n",
        "- Question 2-21: 3 points per question \n",
        "- Questions 22-26: 8 points per question (total 40)\n",
        "- Total: 100 ponits"
      ]
    },
    {
      "cell_type": "code",
      "execution_count": 1,
      "id": "yxb_uy8_YHnY",
      "metadata": {
        "id": "yxb_uy8_YHnY"
      },
      "outputs": [],
      "source": [
        "import matplotlib.pylab as plt"
      ]
    },
    {
      "cell_type": "markdown",
      "id": "SulKr1crYHna",
      "metadata": {
        "id": "SulKr1crYHna"
      },
      "source": [
        "**1. Import the numpy package under the name np**"
      ]
    },
    {
      "cell_type": "code",
      "execution_count": 2,
      "id": "Y5l_t_FfYHnb",
      "metadata": {
        "id": "Y5l_t_FfYHnb"
      },
      "outputs": [],
      "source": [
        "import numpy as np"
      ]
    },
    {
      "cell_type": "markdown",
      "id": "P1erhR7gYHnc",
      "metadata": {
        "id": "P1erhR7gYHnc"
      },
      "source": [
        "**2. Print the numpy version and the configuration**"
      ]
    },
    {
      "cell_type": "code",
      "execution_count": 3,
      "id": "CNDMo2DdYHnc",
      "metadata": {
        "id": "CNDMo2DdYHnc",
        "colab": {
          "base_uri": "https://localhost:8080/"
        },
        "outputId": "e1bc072d-e786-4463-ecaf-116bd79f2bf4"
      },
      "outputs": [
        {
          "output_type": "stream",
          "name": "stdout",
          "text": [
            "NumPy version = 1.19.5\n",
            "\n",
            "Configuration =\n",
            "\n",
            "blas_mkl_info:\n",
            "  NOT AVAILABLE\n",
            "blis_info:\n",
            "  NOT AVAILABLE\n",
            "openblas_info:\n",
            "    libraries = ['openblas', 'openblas']\n",
            "    library_dirs = ['/usr/local/lib']\n",
            "    language = c\n",
            "    define_macros = [('HAVE_CBLAS', None)]\n",
            "blas_opt_info:\n",
            "    libraries = ['openblas', 'openblas']\n",
            "    library_dirs = ['/usr/local/lib']\n",
            "    language = c\n",
            "    define_macros = [('HAVE_CBLAS', None)]\n",
            "lapack_mkl_info:\n",
            "  NOT AVAILABLE\n",
            "openblas_lapack_info:\n",
            "    libraries = ['openblas', 'openblas']\n",
            "    library_dirs = ['/usr/local/lib']\n",
            "    language = c\n",
            "    define_macros = [('HAVE_CBLAS', None)]\n",
            "lapack_opt_info:\n",
            "    libraries = ['openblas', 'openblas']\n",
            "    library_dirs = ['/usr/local/lib']\n",
            "    language = c\n",
            "    define_macros = [('HAVE_CBLAS', None)]\n"
          ]
        }
      ],
      "source": [
        "print(f'NumPy version = {np.__version__}\\n\\nConfiguration =\\n')\n",
        "np.__config__.show()"
      ]
    },
    {
      "cell_type": "markdown",
      "id": "08YpG847YHnc",
      "metadata": {
        "id": "08YpG847YHnc"
      },
      "source": [
        "**3. Create a 1D array of zeros of size 10 of type float32**"
      ]
    },
    {
      "cell_type": "code",
      "execution_count": 4,
      "id": "GWVWHh8UYHnd",
      "metadata": {
        "id": "GWVWHh8UYHnd",
        "colab": {
          "base_uri": "https://localhost:8080/"
        },
        "outputId": "7901a737-066c-4395-e42d-23c948c49b1f"
      },
      "outputs": [
        {
          "output_type": "execute_result",
          "data": {
            "text/plain": [
              "array([0., 0., 0., 0., 0., 0., 0., 0., 0., 0.], dtype=float32)"
            ]
          },
          "metadata": {},
          "execution_count": 4
        }
      ],
      "source": [
        "np.zeros(10, dtype='float32')"
      ]
    },
    {
      "cell_type": "markdown",
      "id": "74KEDVZ4YHnd",
      "metadata": {
        "id": "74KEDVZ4YHnd"
      },
      "source": [
        "**4. Print the memory size of the array below**"
      ]
    },
    {
      "cell_type": "code",
      "execution_count": 5,
      "id": "mVjlI7fsYHne",
      "metadata": {
        "colab": {
          "base_uri": "https://localhost:8080/"
        },
        "id": "mVjlI7fsYHne",
        "outputId": "299051e3-fe39-4ed9-c811-7be2c145d514"
      },
      "outputs": [
        {
          "output_type": "stream",
          "name": "stdout",
          "text": [
            "Memory size = 3072\n"
          ]
        }
      ],
      "source": [
        "Z = np.zeros((32,12))\n",
        "\n",
        "# ndarray.nbytes returns the memory size of the array\n",
        "print(f'Memory size = {Z.nbytes}')"
      ]
    },
    {
      "cell_type": "markdown",
      "id": "EV5YwnoVYHne",
      "metadata": {
        "id": "EV5YwnoVYHne"
      },
      "source": [
        "**5. Create a 1D array with values ranging from 10 to 58**"
      ]
    },
    {
      "cell_type": "code",
      "execution_count": 6,
      "id": "8yLUp5uBYHne",
      "metadata": {
        "colab": {
          "base_uri": "https://localhost:8080/"
        },
        "id": "8yLUp5uBYHne",
        "outputId": "87b1f3ae-15f2-494a-fa41-b1eaccde00d2"
      },
      "outputs": [
        {
          "output_type": "execute_result",
          "data": {
            "text/plain": [
              "array([10, 11, 12, 13, 14, 15, 16, 17, 18, 19, 20, 21, 22, 23, 24, 25, 26,\n",
              "       27, 28, 29, 30, 31, 32, 33, 34, 35, 36, 37, 38, 39, 40, 41, 42, 43,\n",
              "       44, 45, 46, 47, 48, 49, 50, 51, 52, 53, 54, 55, 56, 57, 58])"
            ]
          },
          "metadata": {},
          "execution_count": 6
        }
      ],
      "source": [
        "# Range 10 to 58, both included\n",
        "np.arange(10, 58+1, dtype='int')"
      ]
    },
    {
      "cell_type": "markdown",
      "id": "NGxhL8x4YHnf",
      "metadata": {
        "id": "NGxhL8x4YHnf"
      },
      "source": [
        "**6. Reverse the order of the values in the vector (first element becomes last)**"
      ]
    },
    {
      "cell_type": "code",
      "execution_count": 7,
      "id": "K1XsaW5KYHnf",
      "metadata": {
        "id": "K1XsaW5KYHnf",
        "colab": {
          "base_uri": "https://localhost:8080/"
        },
        "outputId": "2f11eaf0-1a8e-4b08-a5b4-3b99e1695c17"
      },
      "outputs": [
        {
          "output_type": "stream",
          "name": "stdout",
          "text": [
            "original = [0 1 2 3 4 5 6 7 8 9]\n",
            "flipped  = [9 8 7 6 5 4 3 2 1 0]\n"
          ]
        }
      ],
      "source": [
        "a = np.arange(10)\n",
        "\n",
        "print(\"original = {}\".format(a))\n",
        "\n",
        "flipped = np.flip(a)\n",
        "print(\"flipped  = {}\".format(flipped))"
      ]
    },
    {
      "cell_type": "markdown",
      "id": "bqlxXmHwYHnf",
      "metadata": {
        "id": "bqlxXmHwYHnf"
      },
      "source": [
        "**7. Create a 3x3 matrix with values ranging from 0 to 8**"
      ]
    },
    {
      "cell_type": "code",
      "execution_count": 8,
      "id": "WyOT1NG4YHng",
      "metadata": {
        "colab": {
          "base_uri": "https://localhost:8080/"
        },
        "id": "WyOT1NG4YHng",
        "outputId": "a8505fb1-49c5-41dc-a524-867494e510d7"
      },
      "outputs": [
        {
          "output_type": "execute_result",
          "data": {
            "text/plain": [
              "array([[0, 1, 2],\n",
              "       [3, 4, 5],\n",
              "       [6, 7, 8]])"
            ]
          },
          "metadata": {},
          "execution_count": 8
        }
      ],
      "source": [
        "np.arange(9).reshape(3,3)"
      ]
    },
    {
      "cell_type": "markdown",
      "id": "161275b8YHng",
      "metadata": {
        "id": "161275b8YHng"
      },
      "source": [
        "**8. Create a 3x3 identity matrix**"
      ]
    },
    {
      "cell_type": "code",
      "execution_count": 9,
      "id": "pLLD8m7pYHng",
      "metadata": {
        "colab": {
          "base_uri": "https://localhost:8080/"
        },
        "id": "pLLD8m7pYHng",
        "outputId": "02fb374d-2d2d-4041-abca-6315a245aaba"
      },
      "outputs": [
        {
          "output_type": "execute_result",
          "data": {
            "text/plain": [
              "array([[1., 0., 0.],\n",
              "       [0., 1., 0.],\n",
              "       [0., 0., 1.]])"
            ]
          },
          "metadata": {},
          "execution_count": 9
        }
      ],
      "source": [
        "np.identity(3)"
      ]
    },
    {
      "cell_type": "markdown",
      "id": "3HRzmQmlYHng",
      "metadata": {
        "id": "3HRzmQmlYHng"
      },
      "source": [
        "**9. Find and print the maximum values of each column in the array below** "
      ]
    },
    {
      "cell_type": "code",
      "execution_count": 10,
      "id": "Zn_vPk5UYHnh",
      "metadata": {
        "colab": {
          "base_uri": "https://localhost:8080/"
        },
        "id": "Zn_vPk5UYHnh",
        "outputId": "983066e7-2c3c-4113-ebd8-567b1d4d7e0d"
      },
      "outputs": [
        {
          "output_type": "stream",
          "name": "stdout",
          "text": [
            "[0.82144459 0.8664105  0.89187482 0.93642367 0.81347154 0.92594008\n",
            " 0.94501032 0.9772106  0.88616406 0.90940984 0.95598434]\n"
          ]
        }
      ],
      "source": [
        "Z = np.random.random((10,11))\n",
        "\n",
        "# np.amax returns maximum of an array along an axis\n",
        "# axis=0 would find the maxima along the first axis\n",
        "max_values = np.amax(Z, axis=0)\n",
        "\n",
        "print(max_values)"
      ]
    },
    {
      "cell_type": "markdown",
      "id": "LMqFNzqlYHnh",
      "metadata": {
        "id": "LMqFNzqlYHnh"
      },
      "source": [
        "**10. Create a $7 \\times 7$ array with 1s on the borders (first row and column, last row and columns) and 0s everywhere else**"
      ]
    },
    {
      "cell_type": "code",
      "execution_count": 11,
      "id": "GIAtp4qoYHnh",
      "metadata": {
        "colab": {
          "base_uri": "https://localhost:8080/"
        },
        "id": "GIAtp4qoYHnh",
        "outputId": "f02ed72a-5883-4dd2-ed74-1859095b14ab"
      },
      "outputs": [
        {
          "output_type": "execute_result",
          "data": {
            "text/plain": [
              "array([[1., 1., 1., 1., 1., 1., 1.],\n",
              "       [1., 0., 0., 0., 0., 0., 1.],\n",
              "       [1., 0., 0., 0., 0., 0., 1.],\n",
              "       [1., 0., 0., 0., 0., 0., 1.],\n",
              "       [1., 0., 0., 0., 0., 0., 1.],\n",
              "       [1., 0., 0., 0., 0., 0., 1.],\n",
              "       [1., 1., 1., 1., 1., 1., 1.]])"
            ]
          },
          "metadata": {},
          "execution_count": 11
        }
      ],
      "source": [
        "# create a 5x5 matrix with zeros everywhere\n",
        "array_no_padding = np.zeros((5,5))\n",
        "\n",
        "pad_width = 1\n",
        "value_to_pad = 1\n",
        "\n",
        "# np.pad adds values to the edges of each axis. In this case the padding width\n",
        "# is 1 and it pads with 1s, creating a 7x7 array with 1s on the borders and 0s\n",
        "# everywhere else\n",
        "np.pad(array_no_padding, pad_width, constant_values=value_to_pad)"
      ]
    },
    {
      "cell_type": "markdown",
      "id": "A2wiLyjTYHni",
      "metadata": {
        "id": "A2wiLyjTYHni"
      },
      "source": [
        "**11. Pad the existing array below with zeros (i.e., add additional rows and columns with zeros). Use the NumPy pad function.**"
      ]
    },
    {
      "cell_type": "code",
      "execution_count": 12,
      "id": "Mh8QIhHZYHni",
      "metadata": {
        "colab": {
          "base_uri": "https://localhost:8080/"
        },
        "id": "Mh8QIhHZYHni",
        "outputId": "202f054c-ac8f-4aea-9249-256bcb882901"
      },
      "outputs": [
        {
          "output_type": "execute_result",
          "data": {
            "text/plain": [
              "array([[0., 0., 0., 0., 0., 0., 0.],\n",
              "       [0., 1., 1., 1., 1., 1., 0.],\n",
              "       [0., 1., 1., 1., 1., 1., 0.],\n",
              "       [0., 1., 1., 1., 1., 1., 0.],\n",
              "       [0., 1., 1., 1., 1., 1., 0.],\n",
              "       [0., 1., 1., 1., 1., 1., 0.],\n",
              "       [0., 0., 0., 0., 0., 0., 0.]])"
            ]
          },
          "metadata": {},
          "execution_count": 12
        }
      ],
      "source": [
        "Z = np.ones((5,5))\n",
        "# Include your solution below\n",
        "\n",
        "pad_width = 1\n",
        "value_to_pad = 0\n",
        "\n",
        "# np.pad adds values to the edges of each axis. In this case the padding width\n",
        "# is 1 and it pads with 0s, creating a 7x7 array with 0s on the borders and 1s\n",
        "# everywhere else\n",
        "np.pad(Z, pad_width, constant_values=value_to_pad)"
      ]
    },
    {
      "cell_type": "markdown",
      "id": "xg5ABQ_PYHni",
      "metadata": {
        "id": "xg5ABQ_PYHni"
      },
      "source": [
        "**12. Extract the integer part of the random array of positive numbers below**"
      ]
    },
    {
      "cell_type": "code",
      "execution_count": 13,
      "id": "LXRiR_r0YHni",
      "metadata": {
        "colab": {
          "base_uri": "https://localhost:8080/"
        },
        "id": "LXRiR_r0YHni",
        "outputId": "528429ce-7dd1-4d0c-c531-0d6b807fa702"
      },
      "outputs": [
        {
          "output_type": "stream",
          "name": "stdout",
          "text": [
            "Original =  [0.88936965 9.09723189 7.29812878 6.27413491 0.93478742 7.31387105\n",
            " 8.67691502 8.37071347 6.1362367  7.16830782]\n",
            "Extracted =  [0 9 7 6 0 7 8 8 6 7]\n"
          ]
        }
      ],
      "source": [
        "Z = np.random.uniform(0, 10, 10)\n",
        "\n",
        "print(\"Original = \", Z)\n",
        "\n",
        "type_to_cast_to = 'int'\n",
        "\n",
        "# astype casts an array to the given dtype\n",
        "Z_as_integer = Z.astype(dtype=type_to_cast_to)\n",
        "\n",
        "print(\"Extracted = \", Z_as_integer)"
      ]
    },
    {
      "cell_type": "markdown",
      "id": "6Y6rnj-TYHnj",
      "metadata": {
        "id": "6Y6rnj-TYHnj"
      },
      "source": [
        "**13. Create a 5x5 matrix with rows with equal values ranging from 0 to 4 (i.e., [0,1,2,3,4])**\n",
        "\n",
        "*Hint:* consider using NumPy broadcasting or the tile function*"
      ]
    },
    {
      "cell_type": "code",
      "execution_count": 14,
      "id": "q3sXysG4YHnj",
      "metadata": {
        "colab": {
          "base_uri": "https://localhost:8080/"
        },
        "id": "q3sXysG4YHnj",
        "outputId": "7d80eee0-2619-4216-ab87-69f384bbd53d"
      },
      "outputs": [
        {
          "output_type": "execute_result",
          "data": {
            "text/plain": [
              "array([[0., 1., 2., 3., 4.],\n",
              "       [0., 1., 2., 3., 4.],\n",
              "       [0., 1., 2., 3., 4.],\n",
              "       [0., 1., 2., 3., 4.],\n",
              "       [0., 1., 2., 3., 4.]])"
            ]
          },
          "metadata": {},
          "execution_count": 14
        }
      ],
      "source": [
        "# The given matrix can be seen as a matrix product of two matrices\n",
        "\n",
        "# Creates the left matrix\n",
        "left_matrix = np.arange(0, 5)\n",
        "\n",
        "# Creates the right matrix\n",
        "right_matrix = np.ones((5, 1))\n",
        "\n",
        "# Multiply both matrices to obtain the desired output\n",
        "left_matrix * right_matrix"
      ]
    },
    {
      "cell_type": "markdown",
      "id": "A_NVkmcJYHnj",
      "metadata": {
        "id": "A_NVkmcJYHnj"
      },
      "source": [
        "**14. Create a vector of size 10 with values ranging from 0 to 1 (0 and 1 not included)**\n",
        "\n",
        "*Hint: Consider using the linspace function*"
      ]
    },
    {
      "cell_type": "code",
      "execution_count": 15,
      "id": "VTkdU9-lYHnj",
      "metadata": {
        "colab": {
          "base_uri": "https://localhost:8080/"
        },
        "id": "VTkdU9-lYHnj",
        "outputId": "048c7284-aac8-481f-ce5e-7c00b04e4df8"
      },
      "outputs": [
        {
          "output_type": "stream",
          "name": "stdout",
          "text": [
            "Vector =  [0.09090909 0.18181818 0.27272727 0.36363636 0.45454545 0.54545455\n",
            " 0.63636364 0.72727273 0.81818182 0.90909091]\n",
            "Size of vector = 10\n"
          ]
        }
      ],
      "source": [
        "start_value = 0\n",
        "end_value = 1\n",
        "size = 11\n",
        "\n",
        "# By creating a vector with size 11, not taking the first element\n",
        "# and setting the endpoint property to false (this causes the end_value to not \n",
        "# be included in the sequence) we obtain the desired vector\n",
        "vector = np.linspace(start_value, end_value, size, endpoint=False)[1:]\n",
        "\n",
        "print(\"Vector = \", vector)\n",
        "print(\"Size of vector = {}\".format(len(vector)))"
      ]
    },
    {
      "cell_type": "markdown",
      "id": "MOWurTLNYHnj",
      "metadata": {
        "id": "MOWurTLNYHnj"
      },
      "source": [
        "**15. Create a random vector of size 10 and sort it**"
      ]
    },
    {
      "cell_type": "code",
      "execution_count": 16,
      "id": "nFCme5DwYHnk",
      "metadata": {
        "colab": {
          "base_uri": "https://localhost:8080/"
        },
        "id": "nFCme5DwYHnk",
        "outputId": "54bb5c65-d59f-4a77-8e70-37c6737e0431"
      },
      "outputs": [
        {
          "output_type": "stream",
          "name": "stdout",
          "text": [
            "Before sorting\n",
            " [9.22799113e-01 3.14331461e-01 7.09743558e-01 6.00395165e-01\n",
            " 4.29918744e-01 5.09003546e-01 2.37510140e-01 9.58504519e-01\n",
            " 8.87002608e-02 4.73585642e-05]\n",
            "\n",
            "After sorting\n",
            " [4.73585642e-05 8.87002608e-02 2.37510140e-01 3.14331461e-01\n",
            " 4.29918744e-01 5.09003546e-01 6.00395165e-01 7.09743558e-01\n",
            " 9.22799113e-01 9.58504519e-01]\n"
          ]
        }
      ],
      "source": [
        "size_to_create = 10\n",
        "\n",
        "random_vector = np.random.rand(size_to_create)\n",
        "print('Before sorting\\n', random_vector)\n",
        "\n",
        "sorted_vector = np.sort(random_vector)\n",
        "print('\\nAfter sorting\\n', sorted_vector)"
      ]
    },
    {
      "cell_type": "markdown",
      "id": "incl8IfeYHnk",
      "metadata": {
        "id": "incl8IfeYHnk"
      },
      "source": [
        "**16. Consider the cartesian coordinates below (X and Y), convert them to polar coordinates (R and T)**"
      ]
    },
    {
      "cell_type": "code",
      "execution_count": 17,
      "id": "679p3PH2YHnk",
      "metadata": {
        "id": "679p3PH2YHnk",
        "outputId": "7a968e1d-91cc-49e3-e6d1-950e848abb2c",
        "colab": {
          "base_uri": "https://localhost:8080/"
        }
      },
      "outputs": [
        {
          "output_type": "stream",
          "name": "stdout",
          "text": [
            "Cartesian\n",
            " [[0.81785839 0.09170546]\n",
            " [0.84734145 0.52169969]\n",
            " [0.41056109 0.15053403]\n",
            " [0.73769561 0.26357812]\n",
            " [0.62591831 0.55517629]\n",
            " [0.87871186 0.13038445]\n",
            " [0.18494185 0.93405444]\n",
            " [0.92203036 0.15835125]\n",
            " [0.86554476 0.41127988]\n",
            " [0.53548256 0.41400805]]\n",
            "\n",
            "Polar\n",
            " [[0.82298374 0.11166236]\n",
            " [0.99506688 0.55187648]\n",
            " [0.43728813 0.35143398]\n",
            " [0.78336979 0.34316267]\n",
            " [0.83665671 0.72557433]\n",
            " [0.8883325  0.14730654]\n",
            " [0.95218758 1.37532554]\n",
            " [0.93552931 0.17008265]\n",
            " [0.95828955 0.44358607]\n",
            " [0.67686353 0.6581529 ]]\n"
          ]
        }
      ],
      "source": [
        "Z = np.random.random((10,2))\n",
        "X,Y = Z[:,0], Z[:,1]\n",
        "\n",
        "print('Cartesian\\n', Z)\n",
        "\n",
        "# to get the rho (R) component, we need to find the hypotenuse of the two components\n",
        "R = np.hypot(X, Y)\n",
        "\n",
        "# to get the theta (T) component, we need to find the arc tangent of the two components\n",
        "# theta is in radians\n",
        "T = np.arctan2(Y, X)\n",
        "\n",
        "# stack the R and T together just like Z\n",
        "Z_polar = np.stack([R, T], axis=1)\n",
        "\n",
        "print('\\nPolar\\n', Z_polar)"
      ]
    },
    {
      "cell_type": "markdown",
      "id": "pTydNtlVYHnk",
      "metadata": {
        "id": "pTydNtlVYHnk"
      },
      "source": [
        "**17. Create random vector of size 10 and replace the maximum value by 0**"
      ]
    },
    {
      "cell_type": "code",
      "execution_count": 18,
      "id": "m8ohc-QtYHnk",
      "metadata": {
        "id": "m8ohc-QtYHnk",
        "outputId": "a8765f67-410a-4736-d8d0-82cbf7bedd4b",
        "colab": {
          "base_uri": "https://localhost:8080/"
        }
      },
      "outputs": [
        {
          "output_type": "stream",
          "name": "stdout",
          "text": [
            "Original =  [0.1643143  0.65599376 0.33514736 0.26851859 0.47557911 0.78210451\n",
            " 0.42810691 0.63703947 0.46990124 0.46148186]\n",
            "\n",
            "Max value idx = 5\n",
            "\n",
            "Max replaced =  [0.1643143  0.65599376 0.33514736 0.26851859 0.47557911 0.\n",
            " 0.42810691 0.63703947 0.46990124 0.46148186]\n"
          ]
        }
      ],
      "source": [
        "random_vector = np.random.random(10)\n",
        "\n",
        "print('Original = ', random_vector)\n",
        "\n",
        "# argmax returns the idx of the max value\n",
        "idx_max_value = random_vector.argmax()\n",
        "\n",
        "print('\\nMax value idx = {}'.format(idx_max_value))\n",
        "\n",
        "#replacing the max value with zero\n",
        "random_vector[idx_max_value] = 0\n",
        "\n",
        "print('\\nMax replaced = ', random_vector)"
      ]
    },
    {
      "cell_type": "markdown",
      "id": "ItFF-8OOYHnl",
      "metadata": {
        "id": "ItFF-8OOYHnl"
      },
      "source": [
        "**18. Find the nearest value from a given value (z) in an array (Z)**"
      ]
    },
    {
      "cell_type": "code",
      "execution_count": 19,
      "id": "9J1YwNpSYHnl",
      "metadata": {
        "id": "9J1YwNpSYHnl",
        "outputId": "aa5a114a-1c61-4865-ee81-219aae4dd199",
        "colab": {
          "base_uri": "https://localhost:8080/"
        }
      },
      "outputs": [
        {
          "output_type": "stream",
          "name": "stdout",
          "text": [
            "Original array =  [0.31241615 0.82537459 0.97953395 0.08030194 0.04592284 0.80759953\n",
            " 0.23604963 0.23945504 0.89346766 0.39399946]\n",
            "\n",
            "Differences array =  [0.18758385 0.32537459 0.47953395 0.41969806 0.45407716 0.30759953\n",
            " 0.26395037 0.26054496 0.39346766 0.10600054]\n",
            "\n",
            "Idx of the nearest value = 9\n",
            "\n",
            "Nearest value = 0.39399946286765\n"
          ]
        }
      ],
      "source": [
        "Z = np.random.uniform(0,1,10)\n",
        "z = 0.5\n",
        "\n",
        "print(\"Original array = \", Z)\n",
        "\n",
        "# Returns an array in which the elements are the abs differences of the elements\n",
        "# of the original array from the given value\n",
        "differences_array = (np.abs(Z - z))\n",
        "\n",
        "print(\"\\nDifferences array = \", differences_array)\n",
        "\n",
        "# argmin returns the idx of the min value\n",
        "idx_min_value = differences_array.argmin()\n",
        "\n",
        "# The idx that holds the smallest value in differences_array is the idx of the\n",
        "# nearest value in the original array\n",
        "print(\"\\nIdx of the nearest value = {}\".format(idx_min_value))\n",
        "\n",
        "nearest_value = Z[idx_min_value]\n",
        "\n",
        "print(\"\\nNearest value = {}\".format(nearest_value))"
      ]
    },
    {
      "cell_type": "markdown",
      "id": "BvfUAe4jYHnl",
      "metadata": {
        "id": "BvfUAe4jYHnl"
      },
      "source": [
        "**19. Consider the vector [5, 4, 3, 2, 1], how to build a new vector with 3 consecutive zeros interleaved between each value?**"
      ]
    },
    {
      "cell_type": "code",
      "execution_count": 20,
      "id": "l2XvRKZxYHnl",
      "metadata": {
        "id": "l2XvRKZxYHnl",
        "outputId": "dfb58d71-59e0-471f-fa6a-eaa52aeeb594",
        "colab": {
          "base_uri": "https://localhost:8080/"
        }
      },
      "outputs": [
        {
          "output_type": "stream",
          "name": "stdout",
          "text": [
            "Zeros interleaved = [5. 0. 0. 0. 4. 0. 0. 0. 3. 0. 0. 0. 2. 0. 0. 0. 1.]\n"
          ]
        }
      ],
      "source": [
        "Z = np.arange(5)[::-1]\n",
        "\n",
        "Z = [5,4,3,2,1]     # The one above produce [4,3,2,1,0]\n",
        "\n",
        "# calculate the size that the new vector will have\n",
        "size_new_vector = len(Z) + 3*(len(Z)-1)\n",
        "\n",
        "# create an array with all zeros\n",
        "all_zeros = np.zeros(size_new_vector)\n",
        "\n",
        "# returns every other (3+1) element in the all_zeros array\n",
        "# this element will be replaced by the elements of original array\n",
        "all_zeros[::3+1] = Z\n",
        "\n",
        "print(\"Zeros interleaved = {}\".format(all_zeros))"
      ]
    },
    {
      "cell_type": "markdown",
      "id": "kcGgGO7LYHnm",
      "metadata": {
        "id": "kcGgGO7LYHnm"
      },
      "source": [
        "**20. Consider an array of dimension (5,5,3), how to mulitply it element-wise by an array with dimensions (5,5) - i.e., (5,5,0)$\\times$(5,5), (5,5,1)$\\times$(5,5), (5,5,2)$\\times$(5,5)**"
      ]
    },
    {
      "cell_type": "code",
      "execution_count": 21,
      "id": "v5_KY1dLYHnm",
      "metadata": {
        "id": "v5_KY1dLYHnm",
        "outputId": "b602fcae-0d66-4609-b422-6e4e1a30f51d",
        "colab": {
          "base_uri": "https://localhost:8080/"
        }
      },
      "outputs": [
        {
          "output_type": "stream",
          "name": "stdout",
          "text": [
            "\n",
            "D =  [[[2. 2. 2.]\n",
            "  [2. 2. 2.]\n",
            "  [2. 2. 2.]\n",
            "  [2. 2. 2.]\n",
            "  [2. 2. 2.]]\n",
            "\n",
            " [[2. 2. 2.]\n",
            "  [2. 2. 2.]\n",
            "  [2. 2. 2.]\n",
            "  [2. 2. 2.]\n",
            "  [2. 2. 2.]]\n",
            "\n",
            " [[2. 2. 2.]\n",
            "  [2. 2. 2.]\n",
            "  [2. 2. 2.]\n",
            "  [2. 2. 2.]\n",
            "  [2. 2. 2.]]\n",
            "\n",
            " [[2. 2. 2.]\n",
            "  [2. 2. 2.]\n",
            "  [2. 2. 2.]\n",
            "  [2. 2. 2.]\n",
            "  [2. 2. 2.]]\n",
            "\n",
            " [[2. 2. 2.]\n",
            "  [2. 2. 2.]\n",
            "  [2. 2. 2.]\n",
            "  [2. 2. 2.]\n",
            "  [2. 2. 2.]]]\n"
          ]
        }
      ],
      "source": [
        "A = np.ones((5,5,3))\n",
        "B = 2*np.ones((5,5))\n",
        "\n",
        "# Break down 5x5 matrix to 5 5x1 to match the dimensions of matrix A for multiplication\n",
        "C = B[:, :, None]\n",
        "\n",
        "# Multiply A with C is where each value within 5x1 in C is multiply to each row within matrix A\n",
        "D = A * C\n",
        "\n",
        "# print(\"\\nA = \", A)\n",
        "# print(\"\\nB = \", B)\n",
        "# print(\"\\nC = \", C)\n",
        "print(\"\\nD = \", D)"
      ]
    },
    {
      "cell_type": "markdown",
      "id": "GfswUUpoYHnm",
      "metadata": {
        "id": "GfswUUpoYHnm"
      },
      "source": [
        "**21. Swap the first and second rows of the 2D array below**"
      ]
    },
    {
      "cell_type": "code",
      "execution_count": 22,
      "id": "mZYzoUEAYHnm",
      "metadata": {
        "id": "mZYzoUEAYHnm",
        "outputId": "2d197e18-ed0b-4cad-da6b-64387afb50db",
        "colab": {
          "base_uri": "https://localhost:8080/"
        }
      },
      "outputs": [
        {
          "output_type": "stream",
          "name": "stdout",
          "text": [
            "Before swap =\n",
            " [[ 0  1  2  3  4]\n",
            " [ 5  6  7  8  9]\n",
            " [10 11 12 13 14]\n",
            " [15 16 17 18 19]\n",
            " [20 21 22 23 24]\n",
            " [25 26 27 28 29]]\n",
            "\n",
            "After swap =\n",
            " [[ 5  6  7  8  9]\n",
            " [ 0  1  2  3  4]\n",
            " [10 11 12 13 14]\n",
            " [15 16 17 18 19]\n",
            " [20 21 22 23 24]\n",
            " [25 26 27 28 29]]\n"
          ]
        }
      ],
      "source": [
        "W = np.arange(30).reshape(6,5)\n",
        "\n",
        "print(\"Before swap =\\n\", W)\n",
        "\n",
        "# W[[0,1]] is the first and second rows in order\n",
        "# W[[1,0]] is the first and second rows reversed\n",
        "# Just needs to replace one by other\n",
        "\n",
        "W[[0,1]] = W[[1,0]]\n",
        "print(\"\\nAfter swap =\\n\", W)"
      ]
    },
    {
      "cell_type": "markdown",
      "id": "3im2sT8eYHnm",
      "metadata": {
        "id": "3im2sT8eYHnm"
      },
      "source": [
        "**22. Write a function that receives as input a 2D Boolean NumPy array and outputs the coordinates of the minimal bounding-box\n",
        "that encloses all non-zero elements in the input array**\n",
        "\n",
        "**Tip:** search for the functions nonzero and where in the NumPy documentation.\n",
        "\n",
        "\n",
        "<img src=\"https://github.com/meng-ucalgary/enel-645-assignment-1/blob/main/figures/bbox.png?raw=1\" width=\"150\" />"
      ]
    },
    {
      "cell_type": "code",
      "execution_count": 23,
      "id": "a6dl6OPeYHnn",
      "metadata": {
        "id": "a6dl6OPeYHnn",
        "outputId": "dc5c8006-8d6d-46b2-843f-d92bc1c5103d",
        "colab": {
          "base_uri": "https://localhost:8080/"
        }
      },
      "outputs": [
        {
          "output_type": "stream",
          "name": "stdout",
          "text": [
            "((29, 50), (342, 431))\n"
          ]
        }
      ],
      "source": [
        "def bbox(img):\n",
        "    # include your solution below\n",
        "    # Filter to where the actual image is (which is when the value is not False) and assign to X. \n",
        "    # This leads to the first array being x values and the second array being y values\n",
        "    X = np.where(img != 0)\n",
        "    \n",
        "    # Then take the corners of x and y values using min and max on X[0] and X[1]\n",
        "    r1 = np.min(X[0])\n",
        "    c1 = np.min(X[1])\n",
        "    r2 = np.max(X[0])\n",
        "    c2 = np.max(X[1])\n",
        "    return (r1,c1),(r2,c2)\n",
        "\n",
        "\n",
        "from PIL import Image\n",
        "\n",
        "img = np.array(Image.open('figures/bin_image.png').convert('L')) > 0\n",
        "print(bbox(img))"
      ]
    },
    {
      "cell_type": "markdown",
      "id": "xtwen1DOYHnn",
      "metadata": {
        "id": "xtwen1DOYHnn"
      },
      "source": [
        "**23.Write a function to compute the average over a sliding window of length N over a 1D array?**\n",
        "\n",
        "*Example:* [1,2,3,4,5,6,7,8,9], N = 3 -> [2,5,8]"
      ]
    },
    {
      "cell_type": "code",
      "execution_count": 24,
      "id": "dYXF4TDRYHnn",
      "metadata": {
        "id": "dYXF4TDRYHnn",
        "colab": {
          "base_uri": "https://localhost:8080/"
        },
        "outputId": "27b02fea-121b-4850-cce3-f236e308a63a"
      },
      "outputs": [
        {
          "output_type": "stream",
          "name": "stdout",
          "text": [
            "[2.0, 5.0, 8.0]\n",
            "[1. 4. 7.]\n"
          ]
        }
      ],
      "source": [
        "def moving_average(x, N=3):\n",
        "    # pads the array with zeros if the length of the array is not a multiple\n",
        "    # of the size of the moving average\n",
        "    if len(x)%N !=0:\n",
        "      size_of_the_pad = N - len(x) % N\n",
        "\n",
        "      value_to_pad = 0    \n",
        "\n",
        "      x = np.pad(x, (0, size_of_the_pad ), constant_values=value_to_pad)\n",
        " \n",
        "    # creates arrays of size N by slicing the original array\n",
        "    # sub_arrays will be an array of arrays of size N\n",
        "    sub_arrays = [x[idx:idx+N] for idx,value in enumerate(x) if idx%N==0]\n",
        "\n",
        "    # create a new array in which each element is the mean of each array of size N\n",
        "    # in the sub_arrays\n",
        "    return [np.mean(array) for array in sub_arrays]\n",
        "\n",
        "a = [1,2,3,4,5,6,7,8,9]\n",
        "N = 3\n",
        "print(moving_average(a, N))\n",
        "\n",
        "def moving_average(x,N = 3):\n",
        "    #define your function here\n",
        "    return np.mean(x.reshape(-1, N), axis=1)\n",
        "\n",
        "a = np.arange(9)\n",
        "N = 3\n",
        "print(moving_average(a,N))"
      ]
    },
    {
      "cell_type": "markdown",
      "id": "REMVKexWYHnn",
      "metadata": {
        "id": "REMVKexWYHnn"
      },
      "source": [
        "**24.  Given a sorted 1D array C that corresponds to a bincount, how to produce an array A such that np.bincount(A) == C?**\n",
        "\n",
        "*Example:* C = [3,2,4] -> D = [0,0,0,1,1,2,2,2,2]\n",
        "\n",
        "*Tip:* Consider using the NumPy repeat function"
      ]
    },
    {
      "cell_type": "code",
      "execution_count": 25,
      "id": "T5f-EshbYHno",
      "metadata": {
        "id": "T5f-EshbYHno",
        "colab": {
          "base_uri": "https://localhost:8080/"
        },
        "outputId": "c88f0824-97bf-4588-b808-f24d09f71210"
      },
      "outputs": [
        {
          "output_type": "stream",
          "name": "stdout",
          "text": [
            "C = [0 2 1 1 2 0 1]\n",
            "A = [1 1 2 3 4 4 6]\n",
            "np.bincount(A) = [0 2 1 1 2 0 1]\n",
            "C =              [0 2 1 1 2 0 1]\n"
          ]
        }
      ],
      "source": [
        "C = np.bincount([1,1,2,3,4,4,6])\n",
        "\n",
        "print(\"C = {}\".format(C))\n",
        "# C = [0 2 1 1 2 0 1]\n",
        "\n",
        "# Starting from C we need to obtain the original array A, since np.bincount(A) == C\n",
        "# So in C, a 0 in idx 0 indicates that the original array has 0 zero times,\n",
        "# a 2 in the idx 1 indicates that the original array has 1 two times,\n",
        "# a 1 in the idx 2 indicates that the original array has 2 one time, and so on.\n",
        "\n",
        "# So basically we need to repeat the idx of each value of C as many times as the values at that idx in C using np.repeat\n",
        "C_idx = np.arange(C.size)\n",
        "\n",
        "A = np.repeat(a=C_idx, repeats=C)\n",
        "\n",
        "print(\"A = {}\".format(A))\n",
        "print(\"np.bincount(A) = {}\".format(np.bincount(A)))\n",
        "print(\"C =              {}\".format(C))"
      ]
    },
    {
      "cell_type": "markdown",
      "id": "D4C4PoZrYHno",
      "metadata": {
        "id": "D4C4PoZrYHno"
      },
      "source": [
        "**25. Find the most frequent value in the array below?**"
      ]
    },
    {
      "cell_type": "code",
      "execution_count": 26,
      "id": "8MbdrvhIYHno",
      "metadata": {
        "id": "8MbdrvhIYHno",
        "colab": {
          "base_uri": "https://localhost:8080/"
        },
        "outputId": "6f9ccad9-0641-4b30-c2bf-b2608b956df4"
      },
      "outputs": [
        {
          "output_type": "stream",
          "name": "stdout",
          "text": [
            "Sorted Z       = [0 0 0 0 0 1 1 1 1 2 2 2 2 3 3 3 3 3 3 3 4 4 4 4 4 5 5 5 5 6 6 6 6 7 7 7 7\n",
            " 7 7 7 8 8 8 8 8 8 8 9 9 9]\n",
            "\n",
            "np.bincount(Z) = [5 4 4 7 5 4 4 7 7 3]\n",
            "\n",
            "Most frequent value = 3\n"
          ]
        }
      ],
      "source": [
        "Z = np.random.randint(0,10,50)\n",
        "# Include your solution below\n",
        "\n",
        "print(\"Sorted Z       = {}\".format(np.sort(Z)))\n",
        "\n",
        "# using bincounts to count the occurrence of each value\n",
        "counts = np.bincount(Z)\n",
        "\n",
        "print(\"\\nnp.bincount(Z) = {}\".format(counts))\n",
        "\n",
        "# using argmax to the max occurred value (which is the idx in bincount)\n",
        "print(\"\\nMost frequent value = {}\".format(np.argmax(counts)))"
      ]
    },
    {
      "cell_type": "markdown",
      "id": "2DMitUlSYHno",
      "metadata": {
        "id": "2DMitUlSYHno"
      },
      "source": [
        "**26. Write a function to return the n largest values of an array** "
      ]
    },
    {
      "cell_type": "code",
      "execution_count": 27,
      "id": "88j8v963YHno",
      "metadata": {
        "id": "88j8v963YHno",
        "colab": {
          "base_uri": "https://localhost:8080/"
        },
        "outputId": "fda2bb10-3c4f-4284-a96a-4a49b00049ef"
      },
      "outputs": [
        {
          "output_type": "stream",
          "name": "stdout",
          "text": [
            "[9854 9726 6193 ... 8220 3365  953]\n",
            "[9995 9996 9997 9998 9999]\n"
          ]
        }
      ],
      "source": [
        "def nlargest(a,n = 5):\n",
        "    # argsort returns the indices of array a, of which we are going to take the last n indices, then we return the array a\n",
        "    # of those repected indices\n",
        "    return a[a.argsort()[-n:]]\n",
        "\n",
        "\n",
        "Z = np.arange(10000)\n",
        "np.random.shuffle(Z)\n",
        "n = 5\n",
        "print(Z)\n",
        "print(nlargest(Z,n))    "
      ]
    }
  ],
  "metadata": {
    "colab": {
      "collapsed_sections": [],
      "name": "notebook.ipynb",
      "provenance": []
    },
    "kernelspec": {
      "display_name": "Python 3",
      "language": "python",
      "name": "python3"
    },
    "language_info": {
      "codemirror_mode": {
        "name": "ipython",
        "version": 3
      },
      "file_extension": ".py",
      "mimetype": "text/x-python",
      "name": "python",
      "nbconvert_exporter": "python",
      "pygments_lexer": "ipython3",
      "version": "3.7.7"
    }
  },
  "nbformat": 4,
  "nbformat_minor": 5
}